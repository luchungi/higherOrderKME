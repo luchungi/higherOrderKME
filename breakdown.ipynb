{
 "cells": [
  {
   "cell_type": "code",
   "execution_count": 1,
   "metadata": {},
   "outputs": [],
   "source": [
    "import math\n",
    "import numpy as np\n",
    "import torch\n",
    "from higherOrderKME import sigkernel"
   ]
  },
  {
   "cell_type": "code",
   "execution_count": 2,
   "metadata": {},
   "outputs": [
    {
     "data": {
      "text/plain": [
       "array([[[0],\n",
       "        [1],\n",
       "        [2],\n",
       "        [3],\n",
       "        [4]]])"
      ]
     },
     "execution_count": 2,
     "metadata": {},
     "output_type": "execute_result"
    }
   ],
   "source": [
    "seq_len = 5\n",
    "x = np.arange(seq_len).reshape((1, seq_len, 1))\n",
    "x"
   ]
  },
  {
   "cell_type": "code",
   "execution_count": 33,
   "metadata": {},
   "outputs": [],
   "source": [
    "# Specify the static kernel (for linear kernel use sigkernel.LinearKernel())\n",
    "static_kernel = sigkernel.LinearKernel()\n",
    "\n",
    "# Specify dyadic order for PDE solver (int > 0, default 0, the higher the more accurate but slower)\n",
    "dyadic_order = 10\n",
    "n_levels = 16\n",
    "\n",
    "# Initialize the corresponding signature kernel\n",
    "kernel = sigkernel.SigKernel(static_kernel, dyadic_order)"
   ]
  },
  {
   "cell_type": "code",
   "execution_count": 34,
   "metadata": {},
   "outputs": [
    {
     "data": {
      "text/plain": [
       "[1.0,\n",
       " 4.0,\n",
       " 8.0,\n",
       " 10.666666666666666,\n",
       " 10.666666666666666,\n",
       " 8.533333333333333,\n",
       " 5.688888888888889,\n",
       " 3.250793650793651,\n",
       " 1.6253968253968254,\n",
       " 0.7223985890652558,\n",
       " 0.28895943562610227,\n",
       " 0.10507615840949175,\n",
       " 0.03502538613649725,\n",
       " 0.010777041888152998,\n",
       " 0.003079154825186571,\n",
       " 0.0008211079533830857,\n",
       " 0.0]"
      ]
     },
     "execution_count": 34,
     "metadata": {},
     "output_type": "execute_result"
    }
   ],
   "source": [
    "# calculate signature levels\n",
    "diff = (x[:,-1,:] - x[:,0,:]).squeeze()\n",
    "\n",
    "x_levels = []\n",
    "for i in range(n_levels+1):\n",
    "    x_levels.append(diff**i / math.factorial(i))\n",
    "\n",
    "x_levels"
   ]
  },
  {
   "cell_type": "code",
   "execution_count": 35,
   "metadata": {},
   "outputs": [
    {
     "data": {
      "text/plain": [
       "427.56411567721267"
      ]
     },
     "execution_count": 35,
     "metadata": {},
     "output_type": "execute_result"
    }
   ],
   "source": [
    "np.dot(x_levels, x_levels)"
   ]
  },
  {
   "cell_type": "code",
   "execution_count": 36,
   "metadata": {},
   "outputs": [
    {
     "data": {
      "text/plain": [
       "tensor([427.5643], dtype=torch.float64)"
      ]
     },
     "execution_count": 36,
     "metadata": {},
     "output_type": "execute_result"
    }
   ],
   "source": [
    "xt = torch.tensor(x, dtype=torch.float64)\n",
    "kernel.compute_kernel(xt, xt)"
   ]
  },
  {
   "cell_type": "code",
   "execution_count": 37,
   "metadata": {},
   "outputs": [
    {
     "data": {
      "text/plain": [
       "array([[[4],\n",
       "        [1],\n",
       "        [8],\n",
       "        [4],\n",
       "        [7]]])"
      ]
     },
     "execution_count": 37,
     "metadata": {},
     "output_type": "execute_result"
    }
   ],
   "source": [
    "y = np.random.randint(10, size=seq_len).reshape((1, seq_len, 1))\n",
    "y"
   ]
  },
  {
   "cell_type": "code",
   "execution_count": 38,
   "metadata": {},
   "outputs": [
    {
     "data": {
      "text/plain": [
       "[1.0,\n",
       " 3.0,\n",
       " 4.5,\n",
       " 4.5,\n",
       " 3.375,\n",
       " 2.025,\n",
       " 1.0125,\n",
       " 0.43392857142857144,\n",
       " 0.1627232142857143,\n",
       " 0.05424107142857143,\n",
       " 0.016272321428571428,\n",
       " 0.004437905844155844,\n",
       " 0.001109476461038961,\n",
       " 0.00025603302947052944,\n",
       " 5.486422060082774e-05,\n",
       " 1.0972844120165549e-05,\n",
       " 2.0574082725310405e-06]"
      ]
     },
     "execution_count": 38,
     "metadata": {},
     "output_type": "execute_result"
    }
   ],
   "source": [
    "diff = (y[:,-1,:] - y[:,0,:]).squeeze()\n",
    "\n",
    "y_levels = []\n",
    "for i in range(n_levels+1):\n",
    "    y_levels.append(diff**i / math.factorial(i))\n",
    "\n",
    "y_levels"
   ]
  },
  {
   "cell_type": "code",
   "execution_count": 39,
   "metadata": {},
   "outputs": [
    {
     "data": {
      "text/plain": [
       "67.23440697647784"
      ]
     },
     "execution_count": 39,
     "metadata": {},
     "output_type": "execute_result"
    }
   ],
   "source": [
    "np.dot(y_levels, y_levels)"
   ]
  },
  {
   "cell_type": "code",
   "execution_count": 41,
   "metadata": {},
   "outputs": [
    {
     "data": {
      "text/plain": [
       "tensor([67.2453], dtype=torch.float64)"
      ]
     },
     "execution_count": 41,
     "metadata": {},
     "output_type": "execute_result"
    }
   ],
   "source": [
    "yt = torch.tensor(y, dtype=torch.float64)\n",
    "kernel.compute_kernel(yt, yt)"
   ]
  },
  {
   "cell_type": "code",
   "execution_count": 42,
   "metadata": {},
   "outputs": [
    {
     "data": {
      "text/plain": [
       "157.75949587026497"
      ]
     },
     "execution_count": 42,
     "metadata": {},
     "output_type": "execute_result"
    }
   ],
   "source": [
    "np.dot(x_levels, y_levels)"
   ]
  },
  {
   "cell_type": "code",
   "execution_count": 43,
   "metadata": {},
   "outputs": [
    {
     "data": {
      "text/plain": [
       "tensor([157.7622], dtype=torch.float64)"
      ]
     },
     "execution_count": 43,
     "metadata": {},
     "output_type": "execute_result"
    }
   ],
   "source": [
    "kernel.compute_kernel(xt, yt)"
   ]
  }
 ],
 "metadata": {
  "kernelspec": {
   "display_name": "KME",
   "language": "python",
   "name": "python3"
  },
  "language_info": {
   "codemirror_mode": {
    "name": "ipython",
    "version": 3
   },
   "file_extension": ".py",
   "mimetype": "text/x-python",
   "name": "python",
   "nbconvert_exporter": "python",
   "pygments_lexer": "ipython3",
   "version": "3.7.16"
  }
 },
 "nbformat": 4,
 "nbformat_minor": 2
}
